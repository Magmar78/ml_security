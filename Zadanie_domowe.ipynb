{
  "nbformat": 4,
  "nbformat_minor": 0,
  "metadata": {
    "colab": {
      "name": "Zadanie_domowe.ipynb",
      "provenance": [],
      "authorship_tag": "ABX9TyMlsqZA0zQq5UR3W3H66V8f",
      "include_colab_link": true
    },
    "kernelspec": {
      "name": "python3",
      "display_name": "Python 3"
    }
  },
  "cells": [
    {
      "cell_type": "markdown",
      "metadata": {
        "id": "view-in-github",
        "colab_type": "text"
      },
      "source": [
        "<a href=\"https://colab.research.google.com/github/monsad/ml_security/blob/master/Zadanie_domowe.ipynb\" target=\"_parent\"><img src=\"https://colab.research.google.com/assets/colab-badge.svg\" alt=\"Open In Colab\"/></a>"
      ]
    },
    {
      "cell_type": "markdown",
      "metadata": {
        "id": "UgsJOYsBh8e9",
        "colab_type": "text"
      },
      "source": [
        "Dopasowanie wzorca - wyrażenia regularne. Pierwszy projekt.\n",
        "\n"
      ]
    },
    {
      "cell_type": "markdown",
      "metadata": {
        "id": "b9cO0RlOiNMY",
        "colab_type": "text"
      },
      "source": [
        "Tworzymy funkcję o nazwie myPhoneNumber(), która sprawdza czy się tekstowy zawiera dopasowanie numeru telefonu w formacie xxx-xxx-xxx. Wartością zwrotną tej funkcji będzie True lub False."
      ]
    },
    {
      "cell_type": "code",
      "metadata": {
        "id": "yht5xNMEiyiU",
        "colab_type": "code",
        "colab": {
          "base_uri": "https://localhost:8080/",
          "height": 85
        },
        "outputId": "97e598c4-b770-4d2d-f13b-0db906e4cbe7"
      },
      "source": [
        "def myPhoneNumber(text):\n",
        "  if len(text) != 11:\n",
        "    return False\n",
        "  for i in range (0, 3):\n",
        "    if not text[i].isdecimal():\n",
        "      return False\n",
        "  if text[3] != '-':\n",
        "    return False\n",
        "  for i in range(4, 7):\n",
        "    if not text[i].isdecimal():\n",
        "      return False\n",
        "  if text[7] != '-':\n",
        "    return False\n",
        "  for i in range(8, 9):\n",
        "    if not text[i].isdecimal():\n",
        "      return False\n",
        "  return True\n",
        "\n",
        "print('678-897-654 to jest numer telefonu:') \n",
        "print(myPhoneNumber('785-785-423'))\n",
        "print('Tomek, Tomek to jest numer telefonu:')\n",
        "print(myPhoneNumber('Tomek, Tomek'))   \n"
      ],
      "execution_count": 9,
      "outputs": [
        {
          "output_type": "stream",
          "text": [
            "678-897-654 to jest numer telefonu:\n",
            "True\n",
            "Tomek, Tomek to jest numer telefonu:\n",
            "False\n"
          ],
          "name": "stdout"
        }
      ]
    },
    {
      "cell_type": "code",
      "metadata": {
        "id": "NN37_3-FkZ46",
        "colab_type": "code",
        "colab": {
          "base_uri": "https://localhost:8080/",
          "height": 51
        },
        "outputId": "834315bf-cf54-4228-bd6b-fa595940faf1"
      },
      "source": [
        "message = 'Zadzwoń pod numer 999-888-777 po przerwie.'\n",
        "for i in range(len(message)):\n",
        "  chunk = message[i:i+9]\n",
        "  if myPhoneNumber(chunk):\n",
        "    print('Znaleziono numer telefonu:  ' + chunk)\n",
        "print('Gotowe!')    \n"
      ],
      "execution_count": 4,
      "outputs": [
        {
          "output_type": "stream",
          "text": [
            "Znaleziono numer telefonu:  999-888-7\n",
            "Gotowe!\n"
          ],
          "name": "stdout"
        }
      ]
    },
    {
      "cell_type": "markdown",
      "metadata": {
        "id": "Mb3D90tZlfLp",
        "colab_type": "text"
      },
      "source": [
        "W funkcji myPhoneNumber znajduje się kilka poleceń sprawdzających, czy ciąg tekstowy przechowywany w zmiennej 'text'. \n",
        "Pierwszy fragment kodu sprawdza, czy długość ciągu tekstowego wynosi dokładnie 11 znaków. \n",
        "Następnie sprawdzamy, czy trzy pierwsze znaki w zmiennej 'text' to wyłącznie cyfry.\n",
        "Pozostała część funkcji sprawdza, czy ciąg tekstowy jest zgodny z wzorcem numeru telefonu cyfry-cyfry-cyfry\n",
        "Wywołatnie funkcji wraz z argumentem w postaci 678-897-654 zwróci True.\n",
        "\n",
        "Kolejna część kodu pozwala na dopasowanie wzorca tekstu w większym ciągu tekstowym."
      ]
    },
    {
      "cell_type": "markdown",
      "metadata": {
        "id": "psfBmADMmrPa",
        "colab_type": "text"
      },
      "source": [
        "Zadanie domowe: \n",
        "Stwórz funkcję z kodem pocztowym używając wyrażenia regularnego."
      ]
    }
  ]
}